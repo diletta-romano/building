{
 "cells": [
  {
   "cell_type": "code",
   "execution_count": 2,
   "id": "9989eb33",
   "metadata": {},
   "outputs": [],
   "source": [
    "import pandas as pd\n",
    "\n",
    "\n",
    "def data():\n",
    "    url = \"https://raw.githubusercontent.com/diletta-romano/building/main/data.csv\"\n",
    "    df = pd.read_csv(url, index_col=\"Date_time\", parse_dates=True)\n",
    "    df.index.freq = \"MS\"\n",
    "\n",
    "    target_names = \"Power\"  # ciò che voglio stimare\n",
    "    shift_days = 1\n",
    "    shift_steps = shift_days * 24  # Number of hours. quanto voglio predirre\n",
    "    df_targets = df[\n",
    "        \"Power\"\n",
    "    ].copy()  # mi salvo il dataframe che uso come y, ovvero ciò da predirre\n",
    "    df_targets = df_targets.shift(-shift_steps)  # lo shifto\n",
    "    df = df.drop(columns=[\"Power\"])  # elimino dal training set ciò che voglio predirre\n",
    "    x_data = df.values[0:-shift_steps]  # rimuovo gli ultimi valori\n",
    "    y_data = df_targets.values[:-shift_steps]  # rimuovo gli ultimi valori\n",
    "    y_data = y_data.reshape(-1, 1)\n",
    "\n",
    "    train_split = 0.7  # divido il dataset in training e testing\n",
    "    num_data = len(x_data)\n",
    "    num_train = int(train_split * num_data)\n",
    "    num_test = num_data - num_train\n",
    "    x_train = x_data[0:num_train]\n",
    "    x_test = x_data[num_train:]\n",
    "    y_train = y_data[0:num_train]\n",
    "    y_test = y_data[num_train:]\n",
    "    return x_train,x_test,y_train,y_test"
   ]
  },
  {
   "cell_type": "code",
   "execution_count": null,
   "id": "28032ecd",
   "metadata": {},
   "outputs": [],
   "source": []
  }
 ],
 "metadata": {
  "kernelspec": {
   "display_name": "Python 3 (ipykernel)",
   "language": "python",
   "name": "python3"
  },
  "language_info": {
   "codemirror_mode": {
    "name": "ipython",
    "version": 3
   },
   "file_extension": ".py",
   "mimetype": "text/x-python",
   "name": "python",
   "nbconvert_exporter": "python",
   "pygments_lexer": "ipython3",
   "version": "3.8.10"
  }
 },
 "nbformat": 4,
 "nbformat_minor": 5
}
